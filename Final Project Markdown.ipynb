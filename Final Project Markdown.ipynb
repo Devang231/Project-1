{
 "cells": [
  {
   "cell_type": "markdown",
   "id": "47c0a085",
   "metadata": {},
   "source": [
    "# Optimal Solar Panel Placements in Colorado\n",
    "\n",
    "## Data Analytics Boot Camp | Project 1 | Group 2 | April 2023\n",
    "\n",
    "***\n",
    "### Group members\n",
    "* Tanner Amman\n",
    "* Henry Luken\n",
    "* Devang Patel\n",
    "* Adina Raizen\n",
    "\n",
    "***\n",
    "### Project Summary\n",
    "\n",
    "Using data about weather trends, population, energy sources, and current solar farms in Colorado, we determined the optimal locations within the state to build additional solar energy infrastructure.\n",
    "\n",
    "***\n",
    "### Questions\n",
    "* Considering weather patterns across the state (temperature, humidity, cloud cover, solar radiation, etc.), where are the most optimal locations for installing additional solar panels?\n",
    "* Are the current solar farms in the state optimally placed based on these factors?\n",
    "* Considering the types of energy used throughout the state, which counties are using less solar energy currently, and therefore are good candidates for increasing panel installation?\n",
    "\n",
    "***\n",
    "### Background Information\n",
    "* Solar panels lead to cost savings, increased home values, and environmental benefits including reducing greenhouse gas emissions and water consumption. *[Source: U.S. Department of Energy](https://www.energy.gov/energysaver/benefits-residential-solar-electricity#:~:text=Each%20kilowatt%2Dhour%20(kWh),reduces%20water%20consumption%20and%20withdrawal.)*\n",
    "* Solar power in Colorado has grown rapidly, partly because of one of the most favorable net metering laws in the country, with no limit on the number of users. *[Source: Wikipedia](https://en.wikipedia.org/wiki/Solar_power_in_Colorado)*\n",
    "* As of 2017, Colorado was the 12th largest solar state in the U.S., with nearly 1 gigawatt of cumulative solar capacity installed. *[Source: Wikipedia](https://en.wikipedia.org/wiki/Solar_power_in_Colorado)*\n",
    "* Colorado produces enough solar energy to power 452,007 homes, and 6.33% of the state's electricity comes from solar. *[Source: Solar Energy Industries Association](https://www.seia.org/state-solar-policy/colorado-solar)*\n",
    "* Solar panels are rated to perform at peak efficiency between 59°F and 95°F. *[Source: Boston Solar](https://www.bostonsolar.us/solar-blog-resource-center/blog/how-do-temperature-and-shade-affect-solar-panel-efficiency/)*\n",
    "* On cloudy days, solar panels typically produce about 10% to 30% of their capacity. *[Source: Si Solar](https://www.sisolarco.com/effects-weather-solar-panels-production/#:~:text=Contrary%20to%20popular%20opinion%2C%20solar,to%2030%25%20of%20their%20capacity.)*\n",
    "\n",
    "***\n",
    "### Data Sources\n",
    "* [U.S. Census API](https://www.census.gov/data.html)\n",
    "* [Visual Crossing Easy Global Weather API](https://www.visualcrossing.com/weather-api)\n",
    "* [U.S. Energy Information Administration API](https://api.eia.gov/v2/electricity/facility-fuel/data/)\n",
    "* [Wikipedia: List of counties in Colorado](https://en.wikipedia.org/wiki/List_of_counties_in_Colorado)\n",
    "\n",
    "***\n",
    "### Conclusions\n",
    "* Add some! :) (major findings and implications)"
   ]
  },
  {
   "cell_type": "markdown",
   "id": "8a4950bc",
   "metadata": {},
   "source": [
    "***\n",
    "## Section 1: Weather patterns"
   ]
  },
  {
   "cell_type": "code",
   "execution_count": null,
   "id": "cad75a87",
   "metadata": {},
   "outputs": [],
   "source": []
  },
  {
   "cell_type": "markdown",
   "id": "04751f53",
   "metadata": {},
   "source": [
    "***\n",
    "## Section 2: Current solar farms"
   ]
  },
  {
   "cell_type": "code",
   "execution_count": null,
   "id": "df476cfe",
   "metadata": {},
   "outputs": [],
   "source": []
  },
  {
   "cell_type": "markdown",
   "id": "6bbeafa8",
   "metadata": {},
   "source": [
    "***\n",
    "## Section 3: Energy usage"
   ]
  },
  {
   "cell_type": "code",
   "execution_count": null,
   "id": "70360ade",
   "metadata": {},
   "outputs": [],
   "source": []
  },
  {
   "cell_type": "markdown",
   "id": "98cc70df",
   "metadata": {},
   "source": [
    "***\n",
    "## Section 4: "
   ]
  },
  {
   "cell_type": "code",
   "execution_count": null,
   "id": "3827d6fa",
   "metadata": {},
   "outputs": [],
   "source": []
  },
  {
   "cell_type": "code",
   "execution_count": null,
   "id": "c5a5d1f1",
   "metadata": {},
   "outputs": [],
   "source": []
  }
 ],
 "metadata": {
  "kernelspec": {
   "display_name": "Python 3 (ipykernel)",
   "language": "python",
   "name": "python3"
  },
  "language_info": {
   "codemirror_mode": {
    "name": "ipython",
    "version": 3
   },
   "file_extension": ".py",
   "mimetype": "text/x-python",
   "name": "python",
   "nbconvert_exporter": "python",
   "pygments_lexer": "ipython3",
   "version": "3.9.13"
  }
 },
 "nbformat": 4,
 "nbformat_minor": 5
}
