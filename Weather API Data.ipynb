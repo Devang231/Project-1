{
 "cells": [
  {
   "cell_type": "code",
   "execution_count": 5,
   "id": "9bafc8e8",
   "metadata": {},
   "outputs": [],
   "source": [
    "import requests\n",
    "import json\n",
    "import pandas as pd\n",
    "from config import adina_api_key, henry_api_key, devang_api_key, tanner_api_key"
   ]
  },
  {
   "cell_type": "code",
   "execution_count": 8,
   "id": "3ce0715b",
   "metadata": {
    "scrolled": false
   },
   "outputs": [
    {
     "data": {
      "text/plain": [
       "{'queryCost': 1,\n",
       " 'latitude': 39.874325,\n",
       " 'longitude': -104.331872,\n",
       " 'resolvedAddress': '39.874325,-104.331872',\n",
       " 'address': '39.874325,-104.331872',\n",
       " 'timezone': 'America/Denver',\n",
       " 'tzoffset': -6.0,\n",
       " 'days': [{'datetime': '2020-10-01',\n",
       "   'tempmax': 66.7,\n",
       "   'tempmin': 40.5,\n",
       "   'temp': 52.9,\n",
       "   'humidity': 39.1,\n",
       "   'precipcover': 0.0,\n",
       "   'preciptype': None,\n",
       "   'cloudcover': 48.9,\n",
       "   'solarradiation': 370.4,\n",
       "   'solarenergy': 17.3,\n",
       "   'uvindex': 7.0}]}"
      ]
     },
     "execution_count": 8,
     "metadata": {},
     "output_type": "execute_result"
    }
   ],
   "source": [
    "data = requests.get('https://weather.visualcrossing.com/VisualCrossingWebServices/rest/services/timeline/39.874325,-104.331872/2020-10-01/2020-10-01?key=LH73CB26GBPR44YGBTZVU2LDX&contentType=json&include=days&elements=cloudcover,datetime,solarradiation,solarenergy,tempmax,tempmin,temp,humidity,precipcover,preciptype,uvindex,').json()\n",
    "data"
   ]
  },
  {
   "cell_type": "code",
   "execution_count": 22,
   "id": "07252d84",
   "metadata": {
    "scrolled": true
   },
   "outputs": [
    {
     "data": {
      "text/html": [
       "<div>\n",
       "<style scoped>\n",
       "    .dataframe tbody tr th:only-of-type {\n",
       "        vertical-align: middle;\n",
       "    }\n",
       "\n",
       "    .dataframe tbody tr th {\n",
       "        vertical-align: top;\n",
       "    }\n",
       "\n",
       "    .dataframe thead th {\n",
       "        text-align: right;\n",
       "    }\n",
       "</style>\n",
       "<table border=\"1\" class=\"dataframe\">\n",
       "  <thead>\n",
       "    <tr style=\"text-align: right;\">\n",
       "      <th></th>\n",
       "      <th>FIPS</th>\n",
       "      <th>County</th>\n",
       "      <th>County Seat(s)</th>\n",
       "      <th>Population (2010)</th>\n",
       "      <th>Land Area km2</th>\n",
       "      <th>Land Area mi2</th>\n",
       "      <th>Water Area km2</th>\n",
       "      <th>Water Area mi2</th>\n",
       "      <th>Total Area km2</th>\n",
       "      <th>Total Area mi2</th>\n",
       "      <th>Latitude</th>\n",
       "      <th>Longitude</th>\n",
       "    </tr>\n",
       "  </thead>\n",
       "  <tbody>\n",
       "    <tr>\n",
       "      <th>0</th>\n",
       "      <td>8001</td>\n",
       "      <td>Adams</td>\n",
       "      <td>Brighton</td>\n",
       "      <td>441,603</td>\n",
       "      <td>3,024.21</td>\n",
       "      <td>1,167.65</td>\n",
       "      <td>42.070</td>\n",
       "      <td>16.243</td>\n",
       "      <td>3,066.28</td>\n",
       "      <td>1,183.90</td>\n",
       "      <td>39.874325</td>\n",
       "      <td>-104.331872</td>\n",
       "    </tr>\n",
       "    <tr>\n",
       "      <th>1</th>\n",
       "      <td>8003</td>\n",
       "      <td>Alamosa</td>\n",
       "      <td>Alamosa</td>\n",
       "      <td>15,445</td>\n",
       "      <td>1,871.64</td>\n",
       "      <td>722.643</td>\n",
       "      <td>1.808</td>\n",
       "      <td>0.698</td>\n",
       "      <td>1,873.45</td>\n",
       "      <td>723.341</td>\n",
       "      <td>37.568442</td>\n",
       "      <td>-105.788041</td>\n",
       "    </tr>\n",
       "    <tr>\n",
       "      <th>2</th>\n",
       "      <td>8005</td>\n",
       "      <td>Arapahoe</td>\n",
       "      <td>Littleton</td>\n",
       "      <td>572,003</td>\n",
       "      <td>2,067.07</td>\n",
       "      <td>798.1</td>\n",
       "      <td>19.004</td>\n",
       "      <td>7.337</td>\n",
       "      <td>2,086.07</td>\n",
       "      <td>805.437</td>\n",
       "      <td>39.644632</td>\n",
       "      <td>-104.331733</td>\n",
       "    </tr>\n",
       "    <tr>\n",
       "      <th>3</th>\n",
       "      <td>8007</td>\n",
       "      <td>Archuleta</td>\n",
       "      <td>Pagosa Springs</td>\n",
       "      <td>12,084</td>\n",
       "      <td>3,496.94</td>\n",
       "      <td>1,350.18</td>\n",
       "      <td>13.828</td>\n",
       "      <td>5.339</td>\n",
       "      <td>3,510.77</td>\n",
       "      <td>1,355.51</td>\n",
       "      <td>37.202395</td>\n",
       "      <td>-107.050863</td>\n",
       "    </tr>\n",
       "    <tr>\n",
       "      <th>4</th>\n",
       "      <td>8009</td>\n",
       "      <td>Baca</td>\n",
       "      <td>Springfield</td>\n",
       "      <td>3,788</td>\n",
       "      <td>6,617.33</td>\n",
       "      <td>2,554.97</td>\n",
       "      <td>6.142</td>\n",
       "      <td>2.372</td>\n",
       "      <td>6,623.48</td>\n",
       "      <td>2,557.34</td>\n",
       "      <td>37.303144</td>\n",
       "      <td>-102.535457</td>\n",
       "    </tr>\n",
       "  </tbody>\n",
       "</table>\n",
       "</div>"
      ],
      "text/plain": [
       "   FIPS     County  County Seat(s) Population (2010) Land Area km2  \\\n",
       "0  8001      Adams        Brighton           441,603      3,024.21   \n",
       "1  8003    Alamosa         Alamosa            15,445      1,871.64   \n",
       "2  8005   Arapahoe       Littleton           572,003      2,067.07   \n",
       "3  8007  Archuleta  Pagosa Springs            12,084      3,496.94   \n",
       "4  8009       Baca     Springfield             3,788      6,617.33   \n",
       "\n",
       "  Land Area mi2  Water Area km2  Water Area mi2 Total Area km2 Total Area mi2  \\\n",
       "0      1,167.65          42.070          16.243       3,066.28       1,183.90   \n",
       "1       722.643           1.808           0.698       1,873.45        723.341   \n",
       "2         798.1          19.004           7.337       2,086.07        805.437   \n",
       "3      1,350.18          13.828           5.339       3,510.77       1,355.51   \n",
       "4      2,554.97           6.142           2.372       6,623.48       2,557.34   \n",
       "\n",
       "    Latitude   Longitude  \n",
       "0  39.874325 -104.331872  \n",
       "1  37.568442 -105.788041  \n",
       "2  39.644632 -104.331733  \n",
       "3  37.202395 -107.050863  \n",
       "4  37.303144 -102.535457  "
      ]
     },
     "execution_count": 22,
     "metadata": {},
     "output_type": "execute_result"
    }
   ],
   "source": [
    "counties = pd.read_csv('C:/Users/adina/Desktop/Classwork/Project 1/Project-1/CO County Data.csv',encoding='cp1252')\n",
    "counties_df = pd.DataFrame(counties)\n",
    "counties_df.head()"
   ]
  },
  {
   "cell_type": "code",
   "execution_count": null,
   "id": "2fb459f9",
   "metadata": {},
   "outputs": [],
   "source": []
  },
  {
   "cell_type": "code",
   "execution_count": null,
   "id": "059ef25a",
   "metadata": {},
   "outputs": [],
   "source": []
  }
 ],
 "metadata": {
  "kernelspec": {
   "display_name": "Python 3 (ipykernel)",
   "language": "python",
   "name": "python3"
  },
  "language_info": {
   "codemirror_mode": {
    "name": "ipython",
    "version": 3
   },
   "file_extension": ".py",
   "mimetype": "text/x-python",
   "name": "python",
   "nbconvert_exporter": "python",
   "pygments_lexer": "ipython3",
   "version": "3.9.13"
  }
 },
 "nbformat": 4,
 "nbformat_minor": 5
}
