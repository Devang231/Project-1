{
 "cells": [
  {
   "cell_type": "code",
   "execution_count": 2,
   "id": "adae90ff",
   "metadata": {},
   "outputs": [],
   "source": [
    "import requests\n",
    "import json\n",
    "import pandas as pd\n",
    "import csv"
   ]
  },
  {
   "cell_type": "code",
   "execution_count": 3,
   "id": "559cf068",
   "metadata": {},
   "outputs": [
    {
     "ename": "TypeError",
     "evalue": "'module' object is not callable",
     "output_type": "error",
     "traceback": [
      "\u001b[1;31m---------------------------------------------------------------------------\u001b[0m",
      "\u001b[1;31mTypeError\u001b[0m                                 Traceback (most recent call last)",
      "\u001b[1;32m~\\AppData\\Local\\Temp\\ipykernel_1260\\1392996991.py\u001b[0m in \u001b[0;36m<module>\u001b[1;34m\u001b[0m\n\u001b[0;32m     36\u001b[0m \u001b[0mdata\u001b[0m \u001b[1;33m=\u001b[0m \u001b[0mresponse\u001b[0m\u001b[1;33m.\u001b[0m\u001b[0mjson\u001b[0m\u001b[1;33m(\u001b[0m\u001b[1;33m)\u001b[0m\u001b[1;33m\u001b[0m\u001b[1;33m\u001b[0m\u001b[0m\n\u001b[0;32m     37\u001b[0m \u001b[1;33m\u001b[0m\u001b[0m\n\u001b[1;32m---> 38\u001b[1;33m \u001b[0mpprint\u001b[0m\u001b[1;33m(\u001b[0m\u001b[0mdata\u001b[0m\u001b[1;33m)\u001b[0m\u001b[1;33m\u001b[0m\u001b[1;33m\u001b[0m\u001b[0m\n\u001b[0m",
      "\u001b[1;31mTypeError\u001b[0m: 'module' object is not callable"
     ]
    }
   ],
   "source": [
    "api_key = \"0I8fsLv36n0dXGz5oyxBXIGW0mtgBapITdW8e9ql\"\n",
    "url = \"https://api.eia.gov/v2/electricity/facility-fuel/data/\"\n",
    "# define the parameters for the request\n",
    "querystring = {\n",
    "    \"frequency\": \"annual\",\n",
    "    \"data[0]\": \"generation\",\n",
    "    \"facets[fuel2002][]\": \"SUN\",\n",
    "    \"facets[plantCode][]\": [\n",
    "        57554, 59850, 59849, 59807, 64266, 64021, 63536, 62877, 60724, 66247,\n",
    "        61886, 63770, 60351, 59144, 60801, 63278, 58481, 57509, 57645, 57681,\n",
    "        60511, 57368, 59656, 60723, 66095, 61425, 56815, 59462, 61563, 59239,\n",
    "        64031, 62663, 65609, 64386, 62376, 57377, 60008, 63869, 61753, 64200,\n",
    "        60320, 62667, 60722, 62719, 62718, 59199, 64024, 64352, 63276, 63277,\n",
    "        63379, 65178, 64355, 64353, 64356, 64358, 64357, 64831, 62243, 62252,\n",
    "        62256, 62253, 62245, 62254, 62224, 62255, 62239, 62244, 62251, 63681,\n",
    "        62495, 61439, 59848, 61991, 65084, 64649, 64359, 64650, 64652, 64651,\n",
    "        64654, 64648, 64653, 64655, 63753, 61752, 62664, 57507, 57141, 63722,\n",
    "        63092, 64265, 58547, 60023, 61314, 63586, 60283, 61462, 64152, 60497,\n",
    "        63587, 60304, 61472, 61605, 57317, 60248, 59198, 65032, 56481, 59742,\n",
    "        61811, 63163, 62260, 64388, 60247, 65520, 64880, 65235, 65236, 65237,\n",
    "        60764, 61606, 56922, 60720, 63164, 60726, 60725\n",
    "    ],\n",
    "    \"facets[state][]\": \"CO\",\n",
    "    \"start\": \"2017\",\n",
    "    \"end\": \"2022\",\n",
    "    \"sort[0][column]\": \"period\",\n",
    "    \"sort[0][direction]\": \"desc\",\n",
    "    \"offset\": 0,\n",
    "    \"length\": 5000,\n",
    "    \"api_key\": api_key\n",
    "}\n",
    "\n",
    "response = requests.get(url, params=querystring)\n",
    "\n",
    "\n",
    "data = response.json()\n",
    "\n",
    "pprint(data)"
   ]
  },
  {
   "cell_type": "code",
   "execution_count": 11,
   "id": "618cf98f",
   "metadata": {},
   "outputs": [
    {
     "ename": "SyntaxError",
     "evalue": "invalid syntax (463125891.py, line 14)",
     "output_type": "error",
     "traceback": [
      "\u001b[0;36m  File \u001b[0;32m\"/var/folders/sb/rnksrnw53gx_gzq9xnd8ds2h0000gn/T/ipykernel_16654/463125891.py\"\u001b[0;36m, line \u001b[0;32m14\u001b[0m\n\u001b[0;31m    else:\u001b[0m\n\u001b[0m    ^\u001b[0m\n\u001b[0;31mSyntaxError\u001b[0m\u001b[0;31m:\u001b[0m invalid syntax\n"
     ]
    }
   ],
   "source": [
    "  # Open a CSV file for writing\n",
    "with open('Solar_Farm_data.csv', mode='w', newline='') as file:\n",
    "        # Create a CSV writer object\n",
    "        writer = csv.writer(file)\n",
    "\n",
    "        # Write the header row\n",
    "        writer.writerow(['id', 'name', 'age', 'email'])\n",
    "\n",
    "        # Write each row of data\n",
    "        for item in data:\n",
    "            writer.writerow([item['id'], item['name'], item['age'], item['email']])\n",
    "\n",
    "        print('API data has been written to Solar_Farm_data.csv file.')\n",
    "    else:\n",
    "    print('Failed to retrieve data from API.')"
   ]
  },
  {
   "cell_type": "code",
   "execution_count": null,
   "id": "8215157c",
   "metadata": {},
   "outputs": [],
   "source": [
    "# Load data into a pandas dataframe\n",
    "df = pd.json_normalize(data[\"response\"])\n",
    "\n",
    "# Write dataframe to CSV file\n",
    "df.to_csv(\"output.csv\", index=False)\n"
   ]
  }
 ],
 "metadata": {
  "kernelspec": {
   "display_name": "Python 3 (ipykernel)",
   "language": "python",
   "name": "python3"
  },
  "language_info": {
   "codemirror_mode": {
    "name": "ipython",
    "version": 3
   },
   "file_extension": ".py",
   "mimetype": "text/x-python",
   "name": "python",
   "nbconvert_exporter": "python",
   "pygments_lexer": "ipython3",
   "version": "3.9.13"
  }
 },
 "nbformat": 4,
 "nbformat_minor": 5
}
